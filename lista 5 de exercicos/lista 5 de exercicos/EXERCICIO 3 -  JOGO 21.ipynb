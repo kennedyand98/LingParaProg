{
 "cells": [
  {
   "cell_type": "code",
   "execution_count": 2,
   "metadata": {},
   "outputs": [],
   "source": [
    "import  random\n",
    "\n",
    "class carta:\n",
    "    manilha =\"\"\n",
    "    valor=0\n",
    "    index=0\n",
    "    def __init__(self,manilha,valor,index):\n",
    "        self.manilha = manilha\n",
    "        self.valor = valor\n",
    "        self.index= index\n",
    "\n",
    "    def __str__(self):\n",
    "        return f\"manilha {self.manilha} : valor {self.valor}\"\n",
    "\n",
    "\n",
    "def card_deck():\n",
    "    card_value = ['A','2','3','4','5','6','7','8','9','10','J','Q','K']\n",
    "    card_type = ['Copas','Espadas','Paus','Ouros']\n",
    "    deck = []\n",
    "    k  = 0\n",
    "    for i in card_type:\n",
    "        for j in card_value:\n",
    "            k+=1\n",
    "            cartas = carta(i,j,k)\n",
    "            deck.append(cartas)\n",
    "    return deck\n",
    "\n",
    "\n",
    "def carta_valor(carta,rodada):\n",
    "    if((carta.valor =='10')or (carta.valor =='J')or(carta.valor =='Q')or(carta.valor =='K')):\n",
    "        return 10\n",
    "    elif(carta.valor=='A'):\n",
    "        if(rodada==1):\n",
    "            return 11\n",
    "        else:\n",
    "            return 1\n",
    "    else:\n",
    "        return int(carta.valor)\n",
    "\n",
    "\n",
    "\n",
    "\n",
    "def cartas_ini(deck):\n",
    "    return  random.sample(deck,2)\n",
    "\n",
    "def carta_add(deck):\n",
    "    carta= random.sample(deck,1)\n",
    "    remove_from_deck(carta[0],deck)\n",
    "    print(carta)\n",
    "    return carta[0]\n",
    "\n",
    "def mao_atual(mao,soma):\n",
    "    for carta in mao:\n",
    "        print(carta)\n",
    "    print(f\"Soma Cartas: {soma}\")\n",
    "\n",
    "\n",
    "def remove_from_deck(carta,deck):\n",
    "    deck.pop(int(carta.index))\n",
    "\n",
    "\n",
    "\n",
    "\n",
    "\n",
    "def pricipal():\n",
    "    deck = card_deck()\n",
    "    print(len(deck))\n",
    "\n",
    "    mao = cartas_ini(deck)\n",
    "    soma =  0\n",
    "    rodada = 1\n",
    "    while soma<21:\n",
    "        if rodada ==1:\n",
    "            for cartas in mao:\n",
    "                remove_from_deck(cartas,deck)\n",
    "                soma+= carta_valor(cartas,1)\n",
    "                print(soma)\n",
    "        else:\n",
    "            cont = input(\"Quer mais uma ?(S/N)\\n\")\n",
    "            if cont.upper() ==\"S\":\n",
    "                carta =carta_add(deck)\n",
    "                mao.append(carta)\n",
    "                soma+= carta_valor(carta,2)\n",
    "\n",
    "                pass\n",
    "            else:\n",
    "                break\n",
    "\n",
    "\n",
    "\n",
    "\n",
    "\n",
    "        mao_atual(mao,soma)\n",
    "\n",
    "        rodada+=1\n",
    "\n",
    "    if soma==21:\n",
    "        print(\"Ganhou!\")\n",
    "    elif soma>21:\n",
    "        print(\"Perdeu\")\n",
    "    else:\n",
    "        print(\"Você desistiu!\")"
   ]
  },
  {
   "cell_type": "code",
   "execution_count": 6,
   "metadata": {},
   "outputs": [
    {
     "name": "stdout",
     "output_type": "stream",
     "text": [
      "52\n",
      "10\n",
      "18\n",
      "manilha Espadinha : valor Q\n",
      "manilha Coraçao : valor 8\n",
      "Soma das cartas 18\n",
      "Deseja continuar o jogo ?(S/N)\n",
      "s\n",
      "[<__main__.carta object at 0x000001FC82915B00>]\n",
      "manilha Espadinha : valor Q\n",
      "manilha Coraçao : valor 8\n",
      "manilha Espadinha : valor 5\n",
      "Soma das cartas 23\n",
      "vc Perdeu\n"
     ]
    }
   ],
   "source": [
    "pricipal()"
   ]
  },
  {
   "cell_type": "code",
   "execution_count": 1,
   "metadata": {},
   "outputs": [
    {
     "ename": "NameError",
     "evalue": "name 'pricipal' is not defined",
     "output_type": "error",
     "traceback": [
      "\u001b[1;31m---------------------------------------------------------------------------\u001b[0m",
      "\u001b[1;31mNameError\u001b[0m                                 Traceback (most recent call last)",
      "\u001b[1;32m<ipython-input-1-52b63a7fff5f>\u001b[0m in \u001b[0;36m<module>\u001b[1;34m()\u001b[0m\n\u001b[1;32m----> 1\u001b[1;33m \u001b[0mpricipal\u001b[0m\u001b[1;33m(\u001b[0m\u001b[1;33m)\u001b[0m\u001b[1;33m\u001b[0m\u001b[0m\n\u001b[0m",
      "\u001b[1;31mNameError\u001b[0m: name 'pricipal' is not defined"
     ]
    }
   ],
   "source": [
    "pricipal()"
   ]
  },
  {
   "cell_type": "code",
   "execution_count": 2,
   "metadata": {},
   "outputs": [
    {
     "ename": "NameError",
     "evalue": "name 'pricipal' is not defined",
     "output_type": "error",
     "traceback": [
      "\u001b[1;31m---------------------------------------------------------------------------\u001b[0m",
      "\u001b[1;31mNameError\u001b[0m                                 Traceback (most recent call last)",
      "\u001b[1;32m<ipython-input-2-52b63a7fff5f>\u001b[0m in \u001b[0;36m<module>\u001b[1;34m()\u001b[0m\n\u001b[1;32m----> 1\u001b[1;33m \u001b[0mpricipal\u001b[0m\u001b[1;33m(\u001b[0m\u001b[1;33m)\u001b[0m\u001b[1;33m\u001b[0m\u001b[0m\n\u001b[0m",
      "\u001b[1;31mNameError\u001b[0m: name 'pricipal' is not defined"
     ]
    }
   ],
   "source": [
    "pricipal()"
   ]
  },
  {
   "cell_type": "code",
   "execution_count": null,
   "metadata": {},
   "outputs": [],
   "source": []
  }
 ],
 "metadata": {
  "kernelspec": {
   "display_name": "Python 3",
   "language": "python",
   "name": "python3"
  },
  "language_info": {
   "codemirror_mode": {
    "name": "ipython",
    "version": 3
   },
   "file_extension": ".py",
   "mimetype": "text/x-python",
   "name": "python",
   "nbconvert_exporter": "python",
   "pygments_lexer": "ipython3",
   "version": "3.6.4"
  }
 },
 "nbformat": 4,
 "nbformat_minor": 2
}
